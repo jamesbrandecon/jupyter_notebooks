{
 "cells": [
  {
   "cell_type": "markdown",
   "metadata": {},
   "source": [
    "## Nonparametric Demand Estimation with Julia\n",
    "This notebook provides an example of nonparametric demand estimation using the NPDemand.jl package, written by me (James Brand). I run through an example in which we have data on 2J products, but each product is only a substitute for J products. That is, for J=2, consumers substitute between products 1 and 2, and between 3 and 4, but never between any other two products. I run a model selection procedure to determine which products are close substitutes and then apply the nonparametric demand estimation procedure from Compiani (2020). "
   ]
  },
  {
   "cell_type": "code",
   "execution_count": 2,
   "metadata": {},
   "outputs": [],
   "source": [
    "# ] add https://github.com/jamesbrandecon/NPDemand.jl\n",
    "using Statistics, RCall, DataFrames\n",
    "using NPDemand\n",
    "@rlibrary ggplot2"
   ]
  },
  {
   "cell_type": "markdown",
   "metadata": {},
   "source": [
    "### Initializing\n",
    "We need to define the number of products per market, the number of markets, and some utility parameters. Then we set up the number of simulation runs and the grid on which we want to compute price elasticites. "
   ]
  },
  {
   "cell_type": "code",
   "execution_count": 3,
   "metadata": {},
   "outputs": [],
   "source": [
    "J=2; # number of products\n",
    "T =1000;\n",
    "beta = -0.4; # price coefficient in utility function\n",
    "sdxi = 0.15; # standard deviation of xi\n",
    "\n",
    "S = 50; # number of simulations\n",
    "G = 10; # size of grid on which to evaluate price elasticities\n",
    "esep_own = zeros(S,G);\n",
    "esep_cross = zeros(S,G);\n",
    "esep_own_dist = zeros(S,T);\n",
    "esepTrue = zeros(S,G);\n",
    "\n",
    "s, pt, zt, xi = NPDemand.simulate_logit(J,T, beta, sdxi);\n",
    "p_points = range(quantile(pt[:,1],.25),stop = quantile(pt[:,1],.75),length = G);\n",
    "p_points = convert.(Float64, p_points);"
   ]
  },
  {
   "cell_type": "markdown",
   "metadata": {},
   "source": [
    "### Set options for estimation and elasticity calculation"
   ]
  },
  {
   "cell_type": "code",
   "execution_count": 4,
   "metadata": {},
   "outputs": [],
   "source": [
    "bernO = 3*ones(2J,1);       # Order of Bernstein Polynomial\n",
    "iv=0;                       # Order of IV Polynomial = (bernO + iv)\n",
    "constrained = 0;            # Monotonicity Constraint (experience says you always want this on)\n",
    "xt = zeros(T,2J);           # No exogenous product characteristics\n",
    "trueS = 0;                  # Evaluate at true market shares or not\n",
    "own = [1,1];                # [derivative of j, with respect to price of k]\n",
    "cross = [1,2];\n",
    "nfolds = 5; # number of cross-validation folds\n",
    "nlam = 10; # number of regularization parameters to try. Actual values chosen automatically by hierNet\n",
    "strong = true; # boolean for whether or not to impose strong hierarchy constraint\n",
    "# Note: \"strong = true\" takes much longer than \"strong = false.\"\n",
    "nboot = 5;"
   ]
  },
  {
   "cell_type": "markdown",
   "metadata": {},
   "source": [
    "### Run simulations\n",
    "Each iteration of this loop does four things: \n",
    "- Simulate demand, prices, and instruments (because prices are correlated with unobservable demand shifters)\n",
    "- Select the relevant substitutes for each product (each only substitutes to J-1 others) \n",
    "- Estimate demand for each product nonparametrically\n",
    "- Calculate own-price elasticities for product 1 (controlled by the matrix \"own\" above)"
   ]
  },
  {
   "cell_type": "code",
   "execution_count": null,
   "metadata": {},
   "outputs": [],
   "source": [
    "included_symmetric_pct = zeros(2J,2J)\n",
    "included_pct = zeros(2J,2J)\n",
    "for si = 1:1:S\n",
    "    # Simulate demand in two groups -- each product only substitutes to J-1 others\n",
    "    s, pt, zt = NPDemand.simulate_logit(J,T, beta, sdxi);\n",
    "    s2, pt2, zt2  = NPDemand.simulate_logit(J,T, beta, sdxi);\n",
    "\n",
    "    s = [s s2];\n",
    "    s = s ./ 2;\n",
    "    pt = [pt pt2];\n",
    "    zt = [zt zt2];\n",
    "\n",
    "    # hierNet() Returns two matrices: one, the \"raw\" selected model, and another\n",
    "    #   which imposes symmetry. I.e. if j is a substute for k, then k is\n",
    "    #   a substitute for j as well (this can drastically increase the # parameters\n",
    "    #    to estimate when s has many columns)\n",
    "    included, included_symmetric = NPDemand.hierNet_boot(s, pt, zt, nfolds, nlam, false, nboot);\n",
    "\n",
    "    # Estimate demand nonparametrically\n",
    "        # If you want to include an additional covariate in all demand\n",
    "        # functions, add an additional argument \"marketvars\" after included. If it is an\n",
    "        # additional product characteristic, marketvars should be T x J\n",
    "    inv_sigma, designs = NPDemand.inverse_demand(s, pt, xt, zt, bernO, iv, 2J, constrained, included_symmetric, nothing);\n",
    "\n",
    "    # Calculate price elasticities\n",
    "    deltas = -1*median(pt).*ones(G,2J);\n",
    "    deltas[:,1] = -1*p_points;\n",
    "    esep, Jacobians, share_vec = NPDemand.price_elasticity_priceIndex(inv_sigma, s, p_points, deltas, bernO, own, included_symmetric, trueS,[]);\n",
    "    trueEsep = beta.*p_points.*(1 .- 2*share_vec[:,1])\n",
    "    \n",
    "    esep_own[si,:] = esep;\n",
    "    esepTrue[si,:] = trueEsep;\n",
    "    included_pct[:,:] += included./S; # summarizing selection patterns. See pure_model_selection.jl\n",
    "    included_symmetric_pct[:,:] += included_symmetric./S;\n",
    "end\n",
    "# (output of model selection R code suppressed)"
   ]
  },
  {
   "cell_type": "markdown",
   "metadata": {},
   "source": [
    "### Plotting results\n",
    "Now we'll use the extremely convenient `@rlibrary ggplot2` command we ran above to call ggplot directly. Plot shows the true price elasticty as well as the 90th and 10th percentiles (across simulations) of estimated own-price elasticities for product 1 at each point in the grid."
   ]
  },
  {
   "cell_type": "code",
   "execution_count": 6,
   "metadata": {
    "scrolled": false
   },
   "outputs": [
    {
     "data": {
      "image/png": "[encoded data removed]"
     },
     "metadata": {},
     "output_type": "display_data"
    },
    {
     "data": {
      "text/plain": [
       "RObject{VecSxp}\n"
      ]
     },
     "execution_count": 6,
     "metadata": {},
     "output_type": "execute_result"
    }
   ],
   "source": [
    "esep_l = zeros(G,1)\n",
    "esep50 = zeros(G,1)\n",
    "esep_h = zeros(G,1)\n",
    "for i = 1:G\n",
    "    esep_l[i] = quantile(esep_own[:,i], 0.1)\n",
    "    esep50[i] = quantile(esep_own[:,i], 0.5)\n",
    "    esep_h[i] = quantile(esep_own[:,i], 0.9)\n",
    "end\n",
    "esep_l = dropdims(esep_l,dims = 2);\n",
    "esep50 = dropdims(esep50,dims = 2);\n",
    "esep_h = dropdims(esep_h,dims = 2);\n",
    "\n",
    "df = DataFrame(p = p_points, e_l = esep_l, e_true = esepTrue[1,:], e_h = esep_h)\n",
    "ggplot(df, aes(x=:p, y=:e_true)) + geom_line() + geom_line(aes(y=:e_h), color = \"gray\", linetype = \"dashed\") +\n",
    "    geom_line(aes(y=:e_l), color = \"gray\", linetype = \"dashed\") +\n",
    "    xlab(\"Price\") + ylab(\"Own-Elasticity\") + theme_light()"
   ]
  },
  {
   "cell_type": "markdown",
   "metadata": {},
   "source": [
    "Just as we hoped, the estimates surround the truth fairly closely. Note: if we wanted cross-price elasticities, we could replace the matrix `own` with `cross`, or in situations with more asymmetries (or more products) any other combination of two product indices. "
   ]
  }
 ],
 "metadata": {
  "kernelspec": {
   "display_name": "Julia 1.4.1",
   "language": "julia",
   "name": "julia-1.4"
  },
  "language_info": {
   "file_extension": ".jl",
   "mimetype": "application/julia",
   "name": "julia",
   "version": "1.4.1"
  }
 },
 "nbformat": 4,
 "nbformat_minor": 4
}
